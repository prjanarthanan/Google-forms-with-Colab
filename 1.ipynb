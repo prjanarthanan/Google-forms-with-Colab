{
  "nbformat": 4,
  "nbformat_minor": 0,
  "metadata": {
    "colab": {
      "name": "Share_your_love_code.ipynb",
      "provenance": [],
      "collapsed_sections": [],
      "authorship_tag": "ABX9TyOMlovVlreKRDVLUwxprqud",
      "include_colab_link": true
    },
    "kernelspec": {
      "display_name": "Python 3",
      "name": "python3"
    }
  },
  "cells": [
    {
      "cell_type": "markdown",
      "metadata": {
        "id": "view-in-github",
        "colab_type": "text"
      },
      "source": [
        "<a href=\"https://colab.research.google.com/github/prjanarthanan/Tweet-Bot-Accessing-Google-form-using-Google-Colab/blob/main/1.ipynb\" target=\"_parent\"><img src=\"https://colab.research.google.com/assets/colab-badge.svg\" alt=\"Open In Colab\"/></a>"
      ]
    },
    {
      "cell_type": "markdown",
      "metadata": {
        "id": "6mwVlYuVcr8k"
      },
      "source": [
        "*The package has to be installed everytime as this is not installed by default*"
      ]
    },
    {
      "cell_type": "code",
      "metadata": {
        "colab": {
          "base_uri": "https://localhost:8080/"
        },
        "id": "pc3cWe9G_B_y",
        "outputId": "94218c62-dcb8-4a67-9c23-a77d70f69371"
      },
      "source": [
        "!pip install --upgrade gspread"
      ],
      "execution_count": null,
      "outputs": [
        {
          "output_type": "stream",
          "text": [
            "Collecting gspread\n",
            "  Downloading https://files.pythonhosted.org/packages/9c/ba/bc8de4f5077bd34bc873bdd67a89cb29c4f181abba8a836d2c6a0a142365/gspread-3.6.0-py3-none-any.whl\n",
            "Requirement already satisfied, skipping upgrade: requests>=2.2.1 in /usr/local/lib/python3.6/dist-packages (from gspread) (2.23.0)\n",
            "Requirement already satisfied, skipping upgrade: google-auth-oauthlib>=0.4.1 in /usr/local/lib/python3.6/dist-packages (from gspread) (0.4.2)\n",
            "Requirement already satisfied, skipping upgrade: google-auth>=1.12.0 in /usr/local/lib/python3.6/dist-packages (from gspread) (1.17.2)\n",
            "Requirement already satisfied, skipping upgrade: chardet<4,>=3.0.2 in /usr/local/lib/python3.6/dist-packages (from requests>=2.2.1->gspread) (3.0.4)\n",
            "Requirement already satisfied, skipping upgrade: urllib3!=1.25.0,!=1.25.1,<1.26,>=1.21.1 in /usr/local/lib/python3.6/dist-packages (from requests>=2.2.1->gspread) (1.24.3)\n",
            "Requirement already satisfied, skipping upgrade: certifi>=2017.4.17 in /usr/local/lib/python3.6/dist-packages (from requests>=2.2.1->gspread) (2020.12.5)\n",
            "Requirement already satisfied, skipping upgrade: idna<3,>=2.5 in /usr/local/lib/python3.6/dist-packages (from requests>=2.2.1->gspread) (2.10)\n",
            "Requirement already satisfied, skipping upgrade: requests-oauthlib>=0.7.0 in /usr/local/lib/python3.6/dist-packages (from google-auth-oauthlib>=0.4.1->gspread) (1.3.0)\n",
            "Requirement already satisfied, skipping upgrade: pyasn1-modules>=0.2.1 in /usr/local/lib/python3.6/dist-packages (from google-auth>=1.12.0->gspread) (0.2.8)\n",
            "Requirement already satisfied, skipping upgrade: cachetools<5.0,>=2.0.0 in /usr/local/lib/python3.6/dist-packages (from google-auth>=1.12.0->gspread) (4.2.0)\n",
            "Requirement already satisfied, skipping upgrade: six>=1.9.0 in /usr/local/lib/python3.6/dist-packages (from google-auth>=1.12.0->gspread) (1.15.0)\n",
            "Requirement already satisfied, skipping upgrade: rsa<5,>=3.1.4; python_version >= \"3\" in /usr/local/lib/python3.6/dist-packages (from google-auth>=1.12.0->gspread) (4.6)\n",
            "Requirement already satisfied, skipping upgrade: setuptools>=40.3.0 in /usr/local/lib/python3.6/dist-packages (from google-auth>=1.12.0->gspread) (51.1.1)\n",
            "Requirement already satisfied, skipping upgrade: oauthlib>=3.0.0 in /usr/local/lib/python3.6/dist-packages (from requests-oauthlib>=0.7.0->google-auth-oauthlib>=0.4.1->gspread) (3.1.0)\n",
            "Requirement already satisfied, skipping upgrade: pyasn1<0.5.0,>=0.4.6 in /usr/local/lib/python3.6/dist-packages (from pyasn1-modules>=0.2.1->google-auth>=1.12.0->gspread) (0.4.8)\n",
            "Installing collected packages: gspread\n",
            "  Found existing installation: gspread 3.0.1\n",
            "    Uninstalling gspread-3.0.1:\n",
            "      Successfully uninstalled gspread-3.0.1\n",
            "Successfully installed gspread-3.6.0\n"
          ],
          "name": "stdout"
        }
      ]
    },
    {
      "cell_type": "markdown",
      "metadata": {
        "id": "r-_GSRF4c4ry"
      },
      "source": [
        "**Importing Panda, Numpy, Tweepy, Gspread **"
      ]
    },
    {
      "cell_type": "code",
      "metadata": {
        "id": "kqjwc7P1VPSN"
      },
      "source": [
        "from google.colab import auth\n",
        
        "import pandas as pd\n",
        "import gspread\n",
        "import time\n",
        "import tweepy\n",
        "auth.authenticate_user()\n",
        "from oauth2client.client import GoogleCredentials\n",
        "\n",
        "def tweet(worksheet_passed,counter=2):\n",
        "  # get_all_values gives a list of rows.\n",
        "  rows = worksheet.get_all_values()\n",
        "  \n",
        "  # Convert to a DataFrame and render.\n",
        "  data_passed = pd.DataFrame.from_records(rows)\n",
        " \n",
        "  data_passed = data_passed[:][1:]\n",
        "  if len(data_passed) != 0:\n",
        "    for row in data_passed[1][:]:\n",
        "      x=row.split()\n",
        "      print(x)\n",
        "      for k in x:\n",
        "        if k[0]=='@':\n",
        "          content = 'Lovely hug to '+ k + ' from a lovely person'\n",
        "          print(content)\n",
        "      worksheet.delete_rows(counter)\n",
        "      \n",
        "      try:\n",
        "        my_api.update_status(status=content)\n",
        "        time.sleep(60)\n",
        "      except:\n",
        "        pass\n",
        "      counter+=1\n",
        "    \n",
        "gc = gspread.authorize(GoogleCredentials.get_application_default())\n",
        " \n",
        "worksheet = gc.open('Share_Your_Love').sheet1\n",
        " \n",
        " \n",
        " \n",
        "consumer_key= ''\ #Enter your consumer Key n",
        "consumer_secret= '' #Enter your consumer Key\n",
        "access_token= '' #Enter your consumer Key\n",
        "access_token_secret= '' #Enter your consumer Key\n",
        " \n",
        "# authentication of consumer key and secret \n",
        "my_auth = tweepy.OAuthHandler(consumer_key, consumer_secret) \n",
        "# Authentication of access token and secret \n",
        "my_auth.set_access_token(access_token, access_token_secret) \n",
        "my_api = tweepy.API(my_auth)\n",
        " \n",
        "tweet(worksheet)"
      ],
      "execution_count": null,
      "outputs": []
    }
  ]
}
